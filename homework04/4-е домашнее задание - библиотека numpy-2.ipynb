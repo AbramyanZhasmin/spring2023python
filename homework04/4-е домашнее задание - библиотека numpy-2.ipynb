{
 "cells": [
  {
   "cell_type": "markdown",
   "metadata": {},
   "source": [
    "## 4-е домашнее задание - Библиотека numpy\n",
    "\n",
    "Подпишите этот блокнот: укажите ФИО и номер группы. Выполненное задание загрузите в свой репозиторий «<b>Spring2023Python</b>» в github в папку \"<b>homework04</b>\".  \n",
    "\n",
    "Перед выполнением этого домашнего задания полезно прочитать про возможности и основные методы библиотеки numpy:  \n",
    "http://acm.mipt.ru/twiki/bin/view/Cintro/PythonNumpy  \n"
   ]
  },
  {
   "cell_type": "markdown",
   "metadata": {},
   "source": [
    "1. Создайте равномерное разбиение интервала от -1.3 до 2.5 на 64 отрезка."
   ]
  },
  {
   "cell_type": "code",
   "execution_count": 13,
   "metadata": {},
   "outputs": [
    {
     "data": {
      "text/plain": [
       "array([-1.3       , -1.23968254, -1.17936508, -1.11904762, -1.05873016,\n",
       "       -0.9984127 , -0.93809524, -0.87777778, -0.81746032, -0.75714286,\n",
       "       -0.6968254 , -0.63650794, -0.57619048, -0.51587302, -0.45555556,\n",
       "       -0.3952381 , -0.33492063, -0.27460317, -0.21428571, -0.15396825,\n",
       "       -0.09365079, -0.03333333,  0.02698413,  0.08730159,  0.14761905,\n",
       "        0.20793651,  0.26825397,  0.32857143,  0.38888889,  0.44920635,\n",
       "        0.50952381,  0.56984127,  0.63015873,  0.69047619,  0.75079365,\n",
       "        0.81111111,  0.87142857,  0.93174603,  0.99206349,  1.05238095,\n",
       "        1.11269841,  1.17301587,  1.23333333,  1.29365079,  1.35396825,\n",
       "        1.41428571,  1.47460317,  1.53492063,  1.5952381 ,  1.65555556,\n",
       "        1.71587302,  1.77619048,  1.83650794,  1.8968254 ,  1.95714286,\n",
       "        2.01746032,  2.07777778,  2.13809524,  2.1984127 ,  2.25873016,\n",
       "        2.31904762,  2.37936508,  2.43968254,  2.5       ])"
      ]
     },
     "execution_count": 13,
     "metadata": {},
     "output_type": "execute_result"
    }
   ],
   "source": [
    "import numpy as np\n",
    "np.linspace(-1.3,2.5,64)"
   ]
  },
  {
   "cell_type": "markdown",
   "metadata": {},
   "source": [
    "2. Сгенерируйте numpy массив длины $3n$, заполненный циклически числами 1, 2, 3, 1, 2, 3, 1...."
   ]
  },
  {
   "cell_type": "code",
   "execution_count": 14,
   "metadata": {},
   "outputs": [
    {
     "name": "stdout",
     "output_type": "stream",
     "text": [
      "[1 2 3 1 2 3 1 2 3 1 2 3 1 2 3 1 2 3 1 2 3 1 2 3 1 2 3 1 2 3 1 2 3 1 2 3 1\n",
      " 2 3 1 2 3 1 2 3]\n"
     ]
    }
   ],
   "source": [
    "import numpy as np\n",
    "def circle(n):\n",
    "    a = np.array([1, 2, 3]*3*n)\n",
    "    return a\n",
    "print(circle(5))"
   ]
  },
  {
   "cell_type": "markdown",
   "metadata": {},
   "source": [
    "3. Создайте массив первых 10 нечетных целых чисел."
   ]
  },
  {
   "cell_type": "code",
   "execution_count": 3,
   "metadata": {},
   "outputs": [
    {
     "name": "stdout",
     "output_type": "stream",
     "text": [
      "[ 1  3  5  7  9 11 13 15 17 19]\n"
     ]
    }
   ],
   "source": [
    "import numpy as np\n",
    "def odd(n):\n",
    "    b = np.arange(1, 2*n, 2)\n",
    "    return b\n",
    "print(odd(10))"
   ]
  },
  {
   "cell_type": "code",
   "execution_count": null,
   "metadata": {},
   "outputs": [],
   "source": []
  },
  {
   "cell_type": "markdown",
   "metadata": {},
   "source": [
    "4.  Создайте массив нулей размера 10 x 10, а затем создайте в нём \"рамку\" из единиц по краям."
   ]
  },
  {
   "cell_type": "code",
   "execution_count": 5,
   "metadata": {},
   "outputs": [
    {
     "name": "stdout",
     "output_type": "stream",
     "text": [
      "[[1. 1. 1. 1. 1. 1. 1. 1. 1. 1.]\n",
      " [1. 0. 0. 0. 0. 0. 0. 0. 0. 1.]\n",
      " [1. 0. 0. 0. 0. 0. 0. 0. 0. 1.]\n",
      " [1. 0. 0. 0. 0. 0. 0. 0. 0. 1.]\n",
      " [1. 0. 0. 0. 0. 0. 0. 0. 0. 1.]\n",
      " [1. 0. 0. 0. 0. 0. 0. 0. 0. 1.]\n",
      " [1. 0. 0. 0. 0. 0. 0. 0. 0. 1.]\n",
      " [1. 0. 0. 0. 0. 0. 0. 0. 0. 1.]\n",
      " [1. 0. 0. 0. 0. 0. 0. 0. 0. 1.]\n",
      " [1. 1. 1. 1. 1. 1. 1. 1. 1. 1.]]\n"
     ]
    }
   ],
   "source": [
    "def matrix(n):\n",
    "    matrix = np.zeros((n,n))\n",
    "    matrix[0] = 1\n",
    "    matrix[n-1] = 1\n",
    "    matrix[:, 0] = 1\n",
    "    matrix[:, n-1] = 1\n",
    "    return matrix\n",
    "print(matrix(10))"
   ]
  },
  {
   "cell_type": "markdown",
   "metadata": {},
   "source": [
    "5.  Создайте массив 8 x 8 с шахматной доской из нулей и единиц."
   ]
  },
  {
   "cell_type": "code",
   "execution_count": 6,
   "metadata": {},
   "outputs": [
    {
     "name": "stdout",
     "output_type": "stream",
     "text": [
      "[[1. 0. 1. 0. 1. 0. 1. 0.]\n",
      " [0. 1. 0. 1. 0. 1. 0. 1.]\n",
      " [1. 0. 1. 0. 1. 0. 1. 0.]\n",
      " [0. 1. 0. 1. 0. 1. 0. 1.]\n",
      " [1. 0. 1. 0. 1. 0. 1. 0.]\n",
      " [0. 1. 0. 1. 0. 1. 0. 1.]\n",
      " [1. 0. 1. 0. 1. 0. 1. 0.]\n",
      " [0. 1. 0. 1. 0. 1. 0. 1.]]\n"
     ]
    }
   ],
   "source": [
    "def chess_matrix(n):\n",
    "    matrix = np.zeros((n,n))\n",
    "    matrix[0::2, 0::2] = 1\n",
    "    matrix[1::2, 1::2] = 1\n",
    "    return matrix\n",
    "print(chess_matrix(8))"
   ]
  },
  {
   "cell_type": "markdown",
   "metadata": {},
   "source": [
    "6.  Создайте функцию, которая создает $n×n$ матрицу с $(i,j)$-элементом, равным $i+j$."
   ]
  },
  {
   "cell_type": "code",
   "execution_count": 34,
   "metadata": {},
   "outputs": [
    {
     "name": "stdout",
     "output_type": "stream",
     "text": [
      "[[ 0  1  2  3  4  5  6]\n",
      " [ 1  2  3  4  5  6  7]\n",
      " [ 2  3  4  5  6  7  8]\n",
      " [ 3  4  5  6  7  8  9]\n",
      " [ 4  5  6  7  8  9 10]\n",
      " [ 5  6  7  8  9 10 11]\n",
      " [ 6  7  8  9 10 11 12]]\n"
     ]
    }
   ],
   "source": [
    "import numpy as np\n",
    "def matrix(n):\n",
    "    rows_index = np.arange(n)\n",
    "    cols_index = np.arange(n)\n",
    "    return rows_index[:, np.newaxis] + cols_index\n",
    "print(matrix(7))"
   ]
  },
  {
   "cell_type": "markdown",
   "metadata": {},
   "source": [
    "7. Примените функцию dot для перемножения вектор на вектор, матрицу на вектор и матрицу на матрицу."
   ]
  },
  {
   "cell_type": "code",
   "execution_count": 31,
   "metadata": {},
   "outputs": [
    {
     "name": "stdout",
     "output_type": "stream",
     "text": [
      "21\n",
      "[14 15 17]\n",
      "[[ 5 12  9]\n",
      " [ 9  4 14]\n",
      " [ 5 16 11]]\n"
     ]
    }
   ],
   "source": [
    "import numpy as np\n",
    "vector1 = np.random.randint(5, size = 4)\n",
    "vector2 = np.random.randint(5, size = 4)\n",
    "matrix1 = np.random.randint(5, size = (3,4))\n",
    "matrix2 = np.random.randint(5, size = (4,3))\n",
    "\n",
    "vectors_multiplication = np.dot(vector1, vector2)\n",
    "matrix_vector_multiplication = np.dot(matrix1, vector1)\n",
    "matrixes_multiplication = np.dot(matrix1, matrix2)\n",
    "\n",
    "print(vectors_multiplication)\n",
    "print(matrix_vector_multiplication)\n",
    "print(matrixes_multiplication)\n"
   ]
  },
  {
   "cell_type": "markdown",
   "metadata": {},
   "source": [
    "8. Вычислите cos(x) и sin(x) на интервале [0,1] с шагом $0.05$, а затем объедините оба массива чисел как строки в один массив."
   ]
  },
  {
   "cell_type": "code",
   "execution_count": 32,
   "metadata": {},
   "outputs": [
    {
     "name": "stdout",
     "output_type": "stream",
     "text": [
      "[[ 1.00000000e+00  9.87688341e-01  9.51056516e-01  8.91006524e-01\n",
      "   8.09016994e-01  7.07106781e-01  5.87785252e-01  4.53990500e-01\n",
      "   3.09016994e-01  1.56434465e-01  6.12323400e-17 -1.56434465e-01\n",
      "  -3.09016994e-01 -4.53990500e-01 -5.87785252e-01 -7.07106781e-01\n",
      "  -8.09016994e-01 -8.91006524e-01 -9.51056516e-01 -9.87688341e-01\n",
      "  -1.00000000e+00]\n",
      " [ 0.00000000e+00  1.56434465e-01  3.09016994e-01  4.53990500e-01\n",
      "   5.87785252e-01  7.07106781e-01  8.09016994e-01  8.91006524e-01\n",
      "   9.51056516e-01  9.87688341e-01  1.00000000e+00  9.87688341e-01\n",
      "   9.51056516e-01  8.91006524e-01  8.09016994e-01  7.07106781e-01\n",
      "   5.87785252e-01  4.53990500e-01  3.09016994e-01  1.56434465e-01\n",
      "   1.22464680e-16]]\n"
     ]
    }
   ],
   "source": [
    "import numpy as np\n",
    "xx = np.arange(0, 1.05, 0.05)\n",
    "cos = np.cos(xx * np.pi)\n",
    "sin = np.sin(xx * np.pi)\n",
    "result = np.vstack((cos, sin))\n",
    "print(result)"
   ]
  },
  {
   "cell_type": "markdown",
   "metadata": {},
   "source": [
    "9. Создайте матрицу $A$ размера $3×5$ из случайных чисел с равномерным распределением на отрезке $[-1,3]$ (используйте np.random.rand)"
   ]
  },
  {
   "cell_type": "code",
   "execution_count": 33,
   "metadata": {},
   "outputs": [
    {
     "name": "stdout",
     "output_type": "stream",
     "text": [
      "[[ 1.46795799  1.51105177  2.2730016   1.43165902 -0.64078137]\n",
      " [ 1.88575679  0.50668558  2.76194902  1.08906431 -0.71037114]\n",
      " [-0.98548252  0.76036513  1.45757896  2.36778759  0.7002152 ]]\n"
     ]
    }
   ],
   "source": [
    "import numpy as np\n",
    "A = np.random.rand(3, 5) * 4 - 1\n",
    "print(A)"
   ]
  },
  {
   "cell_type": "markdown",
   "metadata": {},
   "source": [
    "10. Найдите сумму всех элементов, сумму внутри строк, сумму внутри столбцов, а также среднее значение, дисперсию и стандартное отклонение чисел для каждой строки матрицы $A$. (Подобно тому, как sorted имеет необязательный аргумент key=, многие функции Numpy имеют необязательный аргумент axis=)\n"
   ]
  },
  {
   "cell_type": "code",
   "execution_count": 36,
   "metadata": {},
   "outputs": [
    {
     "name": "stdout",
     "output_type": "stream",
     "text": [
      "15.876437925510483\n",
      "[6.04288901 5.53308456 4.30046436]\n",
      "[ 2.36823226  2.77810248  6.49252959  4.88851091 -0.65093731]\n",
      "[1.2085778  1.10661691 0.86009287]\n",
      "[0.95233224 1.40177092 1.2143576 ]\n",
      "[0.97587512 1.18396407 1.10197895]\n"
     ]
    }
   ],
   "source": [
    "import numpy as np\n",
    "sum_elements = np.sum(A)\n",
    "sum_rows = np.sum(A, axis = 1)\n",
    "sum_cols = np.sum(A, axis = 0)\n",
    "mean_rows = np.mean(A, axis = 1)\n",
    "var_rows = np.var(A, axis = 1)\n",
    "std_rows = np.std(A, axis = 1)\n",
    "print(sum_elements)\n",
    "print(sum_rows)\n",
    "print(sum_cols)\n",
    "print(mean_rows)\n",
    "print(var_rows)\n",
    "print(std_rows)"
   ]
  },
  {
   "cell_type": "markdown",
   "metadata": {},
   "source": [
    "11.  Отнимите от каждого элемента матрицы $A$ среднее по строке и поделите на стандартное отклонение строки."
   ]
  },
  {
   "cell_type": "code",
   "execution_count": 37,
   "metadata": {},
   "outputs": [
    {
     "name": "stdout",
     "output_type": "stream",
     "text": [
      "[[ 0.2657924   0.30995151  1.09073772  0.22859607 -1.89507771]\n",
      " [ 0.6580773  -0.50671413  1.39812697 -0.01482529 -1.53466486]\n",
      " [-1.6747828  -0.09049878  0.54219374  1.36817016 -0.14508233]]\n"
     ]
    }
   ],
   "source": [
    "import numpy as np\n",
    "A = (A - mean_rows[:, np.newaxis]) / std_rows[:, np.newaxis]\n",
    "print(A)"
   ]
  },
  {
   "cell_type": "markdown",
   "metadata": {},
   "source": [
    "12. Отсортируйте матрицу $A$ по 3-ому столбцу, т.е. поменяйте местами строки матрицы так, чтобы 3-й столбец оказался отсортированным. Используйте для этого slicing + argsort + indexing."
   ]
  },
  {
   "cell_type": "code",
   "execution_count": 38,
   "metadata": {},
   "outputs": [
    {
     "name": "stdout",
     "output_type": "stream",
     "text": [
      "[[-1.6747828  -0.09049878  0.54219374  1.36817016 -0.14508233]\n",
      " [ 0.2657924   0.30995151  1.09073772  0.22859607 -1.89507771]\n",
      " [ 0.6580773  -0.50671413  1.39812697 -0.01482529 -1.53466486]]\n"
     ]
    }
   ],
   "source": [
    "import numpy as np\n",
    "sort_index = np.argsort(A[:, 2])\n",
    "A_sorted = A[sort_index]\n",
    "print(A_sorted)"
   ]
  },
  {
   "cell_type": "markdown",
   "metadata": {},
   "source": [
    "13. Посчитайте две матрицы: $B = A^TA$ и $C = AA^T$. Что вы можете о них сказать? Какого они размера? В чём их сходство и отличие?"
   ]
  },
  {
   "cell_type": "code",
   "execution_count": 44,
   "metadata": {},
   "outputs": [
    {
     "name": "stdout",
     "output_type": "stream",
     "text": [
      "B =  [[ 3.30860878 -0.09950852  0.30192866 -2.24038495 -1.27064397]\n",
      " [-0.09950852  0.36101918 -0.41944276 -0.04545184  0.20338395]\n",
      " [ 0.30192866 -0.41944276  3.43844188  0.97042403 -4.29135181]\n",
      " [-2.24038495 -0.04545184  0.97042403  1.92436555 -0.60895278]\n",
      " [-1.27064397  0.20338395 -4.29135181 -0.60895278  5.96756462]]\n",
      "C =  [[ 5.          4.44776512  0.70589701]\n",
      " [ 4.44776512  5.         -0.09585461]\n",
      " [ 0.70589701 -0.09585461  5.        ]]\n"
     ]
    }
   ],
   "source": [
    "import numpy as np\n",
    "B = np.dot(A.T, A)\n",
    "C = np.dot(A, A.T)\n",
    "print('B = ', B)\n",
    "print('C = ', C)"
   ]
  },
  {
   "cell_type": "markdown",
   "metadata": {},
   "source": [
    "14. Найдите сумму диагональных элементов матриц $B$ и $C$."
   ]
  },
  {
   "cell_type": "code",
   "execution_count": 45,
   "metadata": {},
   "outputs": [
    {
     "name": "stdout",
     "output_type": "stream",
     "text": [
      "15.0\n",
      "15.0\n"
     ]
    }
   ],
   "source": [
    "import numpy as np\n",
    "sum_B = np.trace(B)\n",
    "sum_C = np.trace(C)\n",
    "print(sum_B)\n",
    "print(sum_C)"
   ]
  },
  {
   "cell_type": "markdown",
   "metadata": {},
   "source": [
    "15.\tПосчитайте детерминант и ранг матриц $A$, $B$ и $C$, посмотрите на спектр (набор собственных значений) матриц $B$ и $C$, какие выводы вы можете сделать?  \n",
    "(подсказка: используйте готовые функции из библиотеки np.linalg). \n"
   ]
  },
  {
   "cell_type": "code",
   "execution_count": null,
   "metadata": {},
   "outputs": [],
   "source": [
    "import numpy as np\n",
    "det_B = np.linalg.det(B)\n",
    "det_C = np.linalg.det(C)\n",
    "rank_A = np.linalg.matrix_rank(A)\n",
    "rank_B = np.linalg.matrix_rank(B)\n",
    "rank_C = np.linalg.matrix_rank(C)\n",
    "eigvalsh_B = np.linalg.eigvalsh(B)\n",
    "eigvalsh_C = np.linalg.eigvalsh(C)\n",
    "print(det_B)\n",
    "print(det_C)\n",
    "print(ran)"
   ]
  },
  {
   "cell_type": "markdown",
   "metadata": {},
   "source": [
    "16. Численно посчитать определённый интеграл  3-мя методами:  \n",
    "a)\tПрямоугольников $\\int\\limits_a^b {f(x)dx \\approx \\Delta x\\sum\\limits_{k = 0}^N {f({x_k})} }$  \n",
    "b)\tТрапеций $\\int\\limits_a^b {f(x)dx \\approx \\frac{{\\Delta x}}{2}\\left( {f({x_0}) + 2\\sum\\limits_{k = 1}^{N - 1} {f({x_k})}  + f({x_N})} \\right)}$  \n",
    "c)\tПо правилу Симпсона  $\\int\\limits_a^b {f(x)dx \\approx \\frac{{\\Delta x}}{3}\\left( {f({x_0}) + 2\\sum\\limits_{k = 1}^{N/2 - 1} {f({x_{2k}})}  + 4\\sum\\limits_{k = 1}^{N/2} {f({x_{2k - 1}})}  + f({x_N})} \\right)}$  \n",
    "\n",
    "\n",
    "В реализации этих методов цикл for для суммирования использовать нельзя.  \n",
    "Нужно посчитать значение интеграла с некоторым шагом интегрирования (например начать с 0.1), потом уменьшить его в десять раз и ещё раз посчитать и так до тех пор пока отличие в ответах будет в 5-м знаке после запятой, т.е. чтобы ошибка была меньше 1e-5. Получить ответы для 3-х разных методов и сделать соответствующие выводы.  \n",
    "\n",
    "Далее необходимо сравнить полученные оценки с аналитическим решением (т.е. формульным, которое вы должны сами посчитать на листочке и вбить формулу-ответ).   \n",
    "\n",
    "В качестве интеграла взять два из следующих примеров:  \n",
    "- один с номером, сгенерированным случайным образом с помощью функции np.random.randint(9), в качестве seed для генератора случайных чисел взять номер своего студенческого билета. \n",
    "- второй номер - под номером 9, несобственный интерграл. Подумайте, как сделать подбор шага интегрирования адаптивным.\n",
    "\n",
    "<table width=\"80%\"\n",
    "       align=\"center\">\n",
    "    <tr>\n",
    "        <td> 0) $\\int\\limits_3^4 {\\frac{{{x^2} + 3}}{{x - 2}}dx}$ </td>\n",
    "        <td> 1) $\\int\\limits_{ - 2}^{ - 1} {\\frac{{x + 1}}{{{x^3} - {x^2}}}dx}$ </td>\n",
    "        <td> 2) $\\int\\limits_1^2 {\\frac{{{e^{1/{x^2}}}}}{{{x^3}}}dx}$ </td>\n",
    "        <td> 3) $\\int\\limits_1^e {\\frac{{\\cos (\\ln x)}}{x}dx}$ </td>\n",
    "        <td> 4) $\\int\\limits_1^e {\\frac{{dx}}{{x(1 + {{\\ln }^2}x)}}}$ </td>\n",
    "    </tr>                \n",
    "    <tr>\n",
    "        <td> 5) $\\int\\limits_0^{\\pi /2} {{{\\cos }^3}\\alpha \\;d\\alpha }$ </td>\n",
    "        <td> 6) $\\int\\limits_0^{1/3} {c{h^2}3x\\;dx}$ </td>\n",
    "        <td> 7) $\\int\\limits_2^3 {\\frac{{dy}}{{{y^2} - 2y - 8}}dy}$ </td>\n",
    "        <td> 8) $\\int\\limits_0^2 {\\frac{{2x - 1}}{{2x + 1}}dx}$ </td>\n",
    "        <td> 9) $\\int\\limits_{3/4}^2 {\\frac{{dx}}{{\\sqrt {2 + 3x - 2{x^2}} }}}$ </td>\n",
    "        </tr>\n",
    "</table>"
   ]
  },
  {
   "cell_type": "code",
   "execution_count": 3,
   "metadata": {},
   "outputs": [
    {
     "data": {
      "text/plain": [
       "6"
      ]
     },
     "execution_count": 3,
     "metadata": {},
     "output_type": "execute_result"
    }
   ],
   "source": [
    "import numpy as np\n",
    "np.random.seed(1032204229)\n",
    "np.random.randint(9)"
   ]
  },
  {
   "cell_type": "code",
   "execution_count": 5,
   "metadata": {},
   "outputs": [
    {
     "name": "stdout",
     "output_type": "stream",
     "text": [
      "0.468905 - аналитическое решение функции f(x) на отрезке [0; 1/3]\n",
      "0.4652638162949438, 0.30084555447390965, 0.11579434848876498 при шаге интегрирования 0.1\n",
      "0.4671487651967749, 0.45024777731922777, 0.41986705984499606 при шаге интегрирования 0.010000000000000002\n",
      "0.468720873130051, 0.4670303287072936, 0.46386914000883667 при шаге интегрирования 0.0010000000000000002\n",
      "0.46888653593671314, 0.4687174810489361, 0.4684001373512136 при шаге интегрирования 0.00010000000000000003\n",
      "0.468903183365795, 0.46888627787657183, 0.4688545312653783 при шаге интегрирования 1.0000000000000003e-05\n",
      "0.4689048489169453, 0.4689031583680226, 0.4688999835844958 при шаге интегрирования 1.0000000000000004e-06\n"
     ]
    }
   ],
   "source": [
    "def f(x):\n",
    "    return (np.cosh(3*x))**2\n",
    "\n",
    "def integral(f, a, b, dx):\n",
    "    N = int((b-a) / dx) \n",
    "    xk = np.linspace(a, b, N) \n",
    "    rectan = dx*np.sum(f(xk))  \n",
    "    trapezoid = dx/2*(f(dx) + 2*np.sum(f(xk[1:-1])) + f(xk[-1]))  \n",
    "    simp = dx/3*(f(dx) + 2*np.sum(f(xk[2:-1:2])) + 4*np.sum(f(xk[1:-2:2])) + f(xk[-1]))\n",
    "    return f\"{rectan}, {trapezoid}, {simp} при шаге интегрирования {dx}\"\n",
    "\n",
    "\n",
    "anal_solution = np.float64(0.468905)  \n",
    "print(f\"{anal_solution} - аналитическое решение функции f(x) на отрезке [0; 1/3]\")\n",
    "\n",
    "for i in range(6):\n",
    "    print(integral(f, 0, np.float64(1/3), 0.1 * 0.1**i))"
   ]
  },
  {
   "cell_type": "code",
   "execution_count": null,
   "metadata": {},
   "outputs": [],
   "source": []
  }
 ],
 "metadata": {
  "kernelspec": {
   "display_name": "Python 3 (ipykernel)",
   "language": "python",
   "name": "python3"
  },
  "language_info": {
   "codemirror_mode": {
    "name": "ipython",
    "version": 3
   },
   "file_extension": ".py",
   "mimetype": "text/x-python",
   "name": "python",
   "nbconvert_exporter": "python",
   "pygments_lexer": "ipython3",
   "version": "3.11.1"
  }
 },
 "nbformat": 4,
 "nbformat_minor": 2
}
