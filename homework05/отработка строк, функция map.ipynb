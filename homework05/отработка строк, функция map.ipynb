{
 "cells": [
  {
   "cell_type": "markdown",
   "id": "90d1b100",
   "metadata": {},
   "source": [
    "1. Четные индексы"
   ]
  },
  {
   "cell_type": "code",
   "execution_count": 2,
   "id": "85fe5efa",
   "metadata": {},
   "outputs": [
    {
     "name": "stdout",
     "output_type": "stream",
     "text": [
      "1 2 3 4 5\n",
      "1 3 5\n"
     ]
    }
   ],
   "source": [
    "print(' '.join(input().split()[::2]))"
   ]
  },
  {
   "cell_type": "markdown",
   "id": "cf774522",
   "metadata": {},
   "source": [
    "2. Наибольший элемент и его индекс\n"
   ]
  },
  {
   "cell_type": "code",
   "execution_count": 4,
   "id": "c7de3938",
   "metadata": {},
   "outputs": [
    {
     "name": "stdout",
     "output_type": "stream",
     "text": [
      "1 2 3 2 1\n",
      "3 2\n"
     ]
    }
   ],
   "source": [
    "A = list(map(int, input().split()))\n",
    "print(max(A), A.index(max(A)))"
   ]
  },
  {
   "cell_type": "markdown",
   "id": "0becc1cc",
   "metadata": {},
   "source": [
    "3. Вывести в обратном порядке "
   ]
  },
  {
   "cell_type": "code",
   "execution_count": 5,
   "id": "bdbd3e84",
   "metadata": {},
   "outputs": [
    {
     "name": "stdout",
     "output_type": "stream",
     "text": [
      "1 2 3 4 5 \n",
      "5 4 3 2 1\n"
     ]
    }
   ],
   "source": [
    "print(' '.join(input().split()[::-1]))"
   ]
  },
  {
   "cell_type": "markdown",
   "id": "1e17cc9a",
   "metadata": {},
   "source": [
    "4. Переставить соседние"
   ]
  },
  {
   "cell_type": "code",
   "execution_count": 7,
   "id": "f9d20abc",
   "metadata": {},
   "outputs": [
    {
     "name": "stdout",
     "output_type": "stream",
     "text": [
      "1 2 3 4 5\n",
      "2 1 4 3 5\n"
     ]
    }
   ],
   "source": [
    "A = input().split()\n",
    "A[:-1:2], A[1::2] = A[1::2], A[:-1:2]\n",
    "print(' '.join(A))"
   ]
  },
  {
   "cell_type": "markdown",
   "id": "0eb48373",
   "metadata": {},
   "source": [
    "5. Циклический сдвиг вправо "
   ]
  },
  {
   "cell_type": "code",
   "execution_count": 8,
   "id": "84647492",
   "metadata": {},
   "outputs": [
    {
     "name": "stdout",
     "output_type": "stream",
     "text": [
      "1 2 3 4 5 \n",
      "5 1 2 3 4\n"
     ]
    }
   ],
   "source": [
    "A = input().split()\n",
    "print(' '.join(A[-1:] + A[:-1]))"
   ]
  },
  {
   "cell_type": "markdown",
   "id": "38ee5f27",
   "metadata": {},
   "source": [
    "6. Удалить элемент "
   ]
  },
  {
   "cell_type": "code",
   "execution_count": 11,
   "id": "3116856e",
   "metadata": {},
   "outputs": [
    {
     "name": "stdout",
     "output_type": "stream",
     "text": [
      " 7 6 5 4 3 2 1 \n",
      "2\n",
      "7 6 4 3 2 1\n"
     ]
    }
   ],
   "source": [
    "A = input().split()\n",
    "n = int(input())\n",
    "print(' '.join(A[:n] + A[n+1:]))"
   ]
  },
  {
   "cell_type": "markdown",
   "id": "f47a5ad3",
   "metadata": {},
   "source": [
    "7. Вставить элемент "
   ]
  },
  {
   "cell_type": "code",
   "execution_count": 13,
   "id": "4e4bc9df",
   "metadata": {},
   "outputs": [
    {
     "name": "stdout",
     "output_type": "stream",
     "text": [
      "7 6 5 4 3 2 1\n",
      "2 0\n",
      "7 6 0 5 4 3 2 1\n"
     ]
    }
   ],
   "source": [
    "A = input().split()\n",
    "n, elem = map(int, input().split())\n",
    "print(' '.join(A[:n]), elem, ' '.join(A[n:]))"
   ]
  },
  {
   "cell_type": "markdown",
   "id": "6d5735b8",
   "metadata": {},
   "source": [
    "8. Большой сдвиг "
   ]
  },
  {
   "cell_type": "code",
   "execution_count": 14,
   "id": "fe856168",
   "metadata": {},
   "outputs": [
    {
     "name": "stdout",
     "output_type": "stream",
     "text": [
      "5 3 7 4 6\n",
      "3\n",
      "7 4 6 5 3\n"
     ]
    }
   ],
   "source": [
    "i, j = input().split(), int(input())\n",
    "print(' '.join(i[-j:] + i[:-j]))"
   ]
  }
 ],
 "metadata": {
  "kernelspec": {
   "display_name": "Python 3 (ipykernel)",
   "language": "python",
   "name": "python3"
  },
  "language_info": {
   "codemirror_mode": {
    "name": "ipython",
    "version": 3
   },
   "file_extension": ".py",
   "mimetype": "text/x-python",
   "name": "python",
   "nbconvert_exporter": "python",
   "pygments_lexer": "ipython3",
   "version": "3.11.1"
  }
 },
 "nbformat": 4,
 "nbformat_minor": 5
}
